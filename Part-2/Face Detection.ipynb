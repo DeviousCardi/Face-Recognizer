{
 "cells": [
  {
   "cell_type": "code",
   "execution_count": 1,
   "id": "f3da2393",
   "metadata": {},
   "outputs": [],
   "source": [
    "import cv2 as cv"
   ]
  },
  {
   "cell_type": "code",
   "execution_count": 2,
   "id": "e5337a7d",
   "metadata": {},
   "outputs": [],
   "source": [
    "img = cv.imread('Mona Lisa.jpg')\n",
    "gray = cv.cvtColor(img, cv.COLOR_BGR2GRAY)\n",
    "\n",
    "face_classifier = cv.CascadeClassifier('haarcascade_frontalface_default.xml')\n",
    "faces = face_classifier.detectMultiScale(gray, 1.4, 4)\n",
    "\n",
    "\n",
    "for (x,y,w,h) in faces:\n",
    "    cv.rectangle(img, (x, y),(x+w, y+h), (0,255,0), 20)"
   ]
  },
  {
   "cell_type": "code",
   "execution_count": 3,
   "id": "6d833bc3",
   "metadata": {},
   "outputs": [
    {
     "data": {
      "text/plain": [
       "True"
      ]
     },
     "execution_count": 3,
     "metadata": {},
     "output_type": "execute_result"
    }
   ],
   "source": [
    "cv.imwrite(\"Face_detection.jpg\",img)"
   ]
  },
  {
   "cell_type": "code",
   "execution_count": 4,
   "id": "e2a9f4be",
   "metadata": {},
   "outputs": [
    {
     "data": {
      "text/plain": [
       "(4289, 2835, 3)"
      ]
     },
     "execution_count": 4,
     "metadata": {},
     "output_type": "execute_result"
    }
   ],
   "source": [
    "img.shape"
   ]
  },
  {
   "cell_type": "code",
   "execution_count": null,
   "id": "886ffca7",
   "metadata": {},
   "outputs": [],
   "source": []
  },
  {
   "cell_type": "code",
   "execution_count": null,
   "id": "660e9b8f",
   "metadata": {},
   "outputs": [],
   "source": []
  }
 ],
 "metadata": {
  "kernelspec": {
   "display_name": "Python 3 (ipykernel)",
   "language": "python",
   "name": "python3"
  },
  "language_info": {
   "codemirror_mode": {
    "name": "ipython",
    "version": 3
   },
   "file_extension": ".py",
   "mimetype": "text/x-python",
   "name": "python",
   "nbconvert_exporter": "python",
   "pygments_lexer": "ipython3",
   "version": "3.9.12"
  }
 },
 "nbformat": 4,
 "nbformat_minor": 5
}

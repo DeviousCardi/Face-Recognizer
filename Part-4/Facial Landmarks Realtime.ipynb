{
 "cells": [
  {
   "cell_type": "code",
   "execution_count": null,
   "id": "fd9c3a51",
   "metadata": {},
   "outputs": [],
   "source": [
    "import dlib\n",
    "import cv2 as cv\n",
    "import numpy as np\n",
    "\n",
    "face_detector = dlib.get_frontal_face_detector()\n",
    "landmark_predictor = dlib.shape_predictor('shape_predictor_68_face_landmarks.dat')"
   ]
  },
  {
   "cell_type": "code",
   "execution_count": null,
   "id": "61c313f8",
   "metadata": {},
   "outputs": [],
   "source": [
    "camera = cv.VideoCapture(0)\n",
    "\n",
    "counter = 0\n",
    "\n",
    "\n",
    "while True:\n",
    "    _, frame = camera.read()\n",
    "    frame = cv.flip(frame, 1)\n",
    "    \n",
    "    gray = cv.cvtColor(frame, cv.COLOR_BGR2GRAY)\n",
    "        \n",
    "    faces = face_detector(gray)\n",
    "    \n",
    "    \n",
    "    \n",
    "    for face in faces:  \n",
    "        landmarks = landmark_predictor(gray, face)\n",
    "        \n",
    "        \n",
    "        upper_eye_x = int(landmarks.part(44).x)\n",
    "        upper_eye_y = int(landmarks.part(44).y)\n",
    "        lower_eye_x = int(landmarks.part(46).x)\n",
    "        lower_eye_y = int(landmarks.part(46).y)\n",
    "\n",
    "        cv.circle(frame, (upper_eye_x,upper_eye_y), 3, (0,255,0), -1)\n",
    "        cv.circle(frame, (lower_eye_x,lower_eye_y), 3, (0,255,0), -1)\n",
    "        \n",
    "        left_eye_x = int(landmarks.part(42).x)\n",
    "        left_eye_y = int(landmarks.part(42).y)\n",
    "        \n",
    "        right_eye_x = int(landmarks.part(45).x)\n",
    "        right_eye_y = int(landmarks.part(45).y)\n",
    "        \n",
    "        cv.circle(frame, (left_eye_x,left_eye_y), 3, (255,0,0), -1)\n",
    "        cv.circle(frame, (right_eye_x,right_eye_y), 3, (255,0,0), -1)\n",
    "        \n",
    "        ratio = (right_eye_x - left_eye_x) / (lower_eye_y - upper_eye_y)\n",
    "        print(ratio)\n",
    "        \n",
    "        if (ratio > 4):\n",
    "            counter += 1\n",
    "        else:\n",
    "            counter = 0\n",
    "            \n",
    "        if(counter > 20):\n",
    "            print('Alert')\n",
    "        \n",
    "    \n",
    "    cv.imshow(\"Original Frame\", frame)\n",
    "    \n",
    "    key = cv.waitKey(30)\n",
    "    if (key == 27):\n",
    "        break\n",
    "        \n",
    "camera.release()"
   ]
  },
  {
   "cell_type": "code",
   "execution_count": null,
   "id": "72539248",
   "metadata": {},
   "outputs": [],
   "source": []
  },
  {
   "cell_type": "code",
   "execution_count": null,
   "id": "7c8b6bed",
   "metadata": {},
   "outputs": [],
   "source": []
  },
  {
   "cell_type": "code",
   "execution_count": null,
   "id": "2097b9e9",
   "metadata": {},
   "outputs": [],
   "source": []
  },
  {
   "cell_type": "code",
   "execution_count": null,
   "id": "75a9df78",
   "metadata": {},
   "outputs": [],
   "source": []
  }
 ],
 "metadata": {
  "kernelspec": {
   "display_name": "Python 3 (ipykernel)",
   "language": "python",
   "name": "python3"
  },
  "language_info": {
   "codemirror_mode": {
    "name": "ipython",
    "version": 3
   },
   "file_extension": ".py",
   "mimetype": "text/x-python",
   "name": "python",
   "nbconvert_exporter": "python",
   "pygments_lexer": "ipython3",
   "version": "3.9.12"
  }
 },
 "nbformat": 4,
 "nbformat_minor": 5
}

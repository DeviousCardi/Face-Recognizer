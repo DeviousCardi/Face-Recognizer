{
 "cells": [
  {
   "cell_type": "code",
   "execution_count": 1,
   "id": "1f937ebf",
   "metadata": {},
   "outputs": [],
   "source": [
    "import numpy as np\n",
    "import cv2 as cv"
   ]
  },
  {
   "cell_type": "code",
   "execution_count": 2,
   "id": "f75f4d7d",
   "metadata": {},
   "outputs": [
    {
     "data": {
      "text/plain": [
       "True"
      ]
     },
     "execution_count": 2,
     "metadata": {},
     "output_type": "execute_result"
    }
   ],
   "source": [
    "img = cv.imread('road_img.jpeg')\n",
    "\n",
    "# cv.circle(img, (400,280), 5, (255,0,0), -1)\n",
    "# cv.circle(img, (600,280), 5, (0,255,0), -1)\n",
    "# cv.circle(img, (5,430)  , 5, (0,0,255), -1)\n",
    "# cv.circle(img, (995,430)  , 5,(255,255,255), -1)\n",
    "\n",
    "cv.imwrite('result.png',img)"
   ]
  },
  {
   "cell_type": "code",
   "execution_count": 3,
   "id": "1db612c6",
   "metadata": {},
   "outputs": [],
   "source": [
    "src_pts = np.float32([[400,280],[600,280],[5,430],[995,430]])\n",
    "dst_pts = np.float32([[0,0],[500,0],[0,500],[500,500]])\n",
    "\n",
    "matrix = cv.getPerspectiveTransform(src_pts, dst_pts)\n",
    "\n",
    "result = cv.warpPerspective(img, matrix, (500,500))"
   ]
  },
  {
   "cell_type": "code",
   "execution_count": 4,
   "id": "f5913c8c",
   "metadata": {},
   "outputs": [
    {
     "data": {
      "text/plain": [
       "True"
      ]
     },
     "execution_count": 4,
     "metadata": {},
     "output_type": "execute_result"
    }
   ],
   "source": [
    "cv.imwrite('Bird_Eye_View.png',result)"
   ]
  },
  {
   "cell_type": "code",
   "execution_count": null,
   "id": "71c8d076",
   "metadata": {},
   "outputs": [],
   "source": []
  }
 ],
 "metadata": {
  "kernelspec": {
   "display_name": "Python 3 (ipykernel)",
   "language": "python",
   "name": "python3"
  },
  "language_info": {
   "codemirror_mode": {
    "name": "ipython",
    "version": 3
   },
   "file_extension": ".py",
   "mimetype": "text/x-python",
   "name": "python",
   "nbconvert_exporter": "python",
   "pygments_lexer": "ipython3",
   "version": "3.9.12"
  }
 },
 "nbformat": 4,
 "nbformat_minor": 5
}

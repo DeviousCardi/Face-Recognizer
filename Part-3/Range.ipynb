{
 "cells": [
  {
   "cell_type": "code",
   "execution_count": 1,
   "id": "1f0cceac",
   "metadata": {},
   "outputs": [],
   "source": [
    "import cv2 as cv\n",
    "import numpy as np"
   ]
  },
  {
   "cell_type": "code",
   "execution_count": 2,
   "id": "1879b051",
   "metadata": {},
   "outputs": [
    {
     "data": {
      "text/plain": [
       "True"
      ]
     },
     "execution_count": 2,
     "metadata": {},
     "output_type": "execute_result"
    }
   ],
   "source": [
    "img = cv.imread('road_img.jpeg')\n",
    "\n",
    "low   = np.array([10,10,10]) \n",
    "upper = np.array([120,120,120])\n",
    "\n",
    "img = cv.GaussianBlur(img, (5,5),0)\n",
    "\n",
    "mask = cv.inRange(img , low, upper)\n",
    "\n",
    "cv.imwrite('Mask.jpg',mask)"
   ]
  },
  {
   "cell_type": "code",
   "execution_count": null,
   "id": "f9573e6a",
   "metadata": {},
   "outputs": [],
   "source": []
  }
 ],
 "metadata": {
  "kernelspec": {
   "display_name": "Python 3 (ipykernel)",
   "language": "python",
   "name": "python3"
  },
  "language_info": {
   "codemirror_mode": {
    "name": "ipython",
    "version": 3
   },
   "file_extension": ".py",
   "mimetype": "text/x-python",
   "name": "python",
   "nbconvert_exporter": "python",
   "pygments_lexer": "ipython3",
   "version": "3.9.12"
  }
 },
 "nbformat": 4,
 "nbformat_minor": 5
}
